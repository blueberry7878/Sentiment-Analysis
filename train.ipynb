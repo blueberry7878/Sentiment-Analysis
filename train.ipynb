{
 "cells": [
  {
   "cell_type": "code",
   "execution_count": 1,
   "id": "23412d88-96f0-40c8-81df-84e6a1c8e801",
   "metadata": {},
   "outputs": [],
   "source": [
    "import numpy as np\n",
    "import pandas as pd\n",
    "from sklearn.model_selection import train_test_split\n",
    "from sklearn.linear_model import LogisticRegression\n",
    "from sklearn.model_selection import GridSearchCV\n",
    "from sklearn.model_selection import cross_val_score\n",
    "import torch\n",
    "import transformers as tfs\n",
    "import warnings\n",
    "\n",
    "warnings.filterwarnings('ignore')"
   ]
  },
  {
   "cell_type": "code",
   "execution_count": 2,
   "id": "f971ef0f-2ad6-4081-bfcc-cc26ba53245a",
   "metadata": {},
   "outputs": [
    {
     "name": "stdout",
     "output_type": "stream",
     "text": [
      "Train set shape: (3000, 2)\n"
     ]
    },
    {
     "data": {
      "text/plain": [
       "1\n",
       "1        1637\n",
       "0        1362\n",
       "label       1\n",
       "Name: count, dtype: int64"
      ]
     },
     "execution_count": 2,
     "metadata": {},
     "output_type": "execute_result"
    }
   ],
   "source": [
    "train_df = pd.read_csv('train.tsv', delimiter='\\t', header=None)\n",
    "train_set = train_df[:3000]   #取其中的3000条数据作为我们的数据集\n",
    "print(\"Train set shape:\", train_set.shape)\n",
    "train_set[1].value_counts()   #查看数据集中标签的分布"
   ]
  },
  {
   "cell_type": "code",
   "execution_count": 3,
   "id": "15c8bc61-288c-4dc6-9157-2e5cf8f8f446",
   "metadata": {},
   "outputs": [
    {
     "name": "stdout",
     "output_type": "stream",
     "text": [
      "train set shape: (3000, 57)\n"
     ]
    }
   ],
   "source": [
    "model_class, tokenizer_class, pretrained_weights = (tfs.BertModel, tfs.BertTokenizer, 'bert-base-uncased')\n",
    "tokenizer = tokenizer_class.from_pretrained(pretrained_weights)\n",
    "model = model_class.from_pretrained(pretrained_weights)\n",
    "#add_special_tokens 表示在句子的首尾添加[CLS]和[END]符号\n",
    "train_tokenized = train_set[0].apply((lambda x: tokenizer.encode(x, add_special_tokens=True)))\n",
    "train_max_len = 0\n",
    "for i in train_tokenized.values:\n",
    "    if len(i) > train_max_len:\n",
    "        train_max_len = len(i)\n",
    "train_padded = np.array([i + [0] * (train_max_len-len(i)) for i in train_tokenized.values])\n",
    "print(\"train set shape:\",train_padded.shape)"
   ]
  },
  {
   "cell_type": "code",
   "execution_count": 4,
   "id": "9aef9d77-b37c-41f1-872f-cb62092cb74d",
   "metadata": {},
   "outputs": [
    {
     "data": {
      "text/plain": [
       "0.8466666666666667"
      ]
     },
     "execution_count": 4,
     "metadata": {},
     "output_type": "execute_result"
    }
   ],
   "source": [
    "train_attention_mask = np.where(train_padded != 0, 1, 0)\n",
    "train_input_ids = torch.tensor(train_padded).long()\n",
    "train_attention_mask = torch.tensor(train_attention_mask).long()\n",
    "with torch.no_grad():\n",
    "    train_last_hidden_states = model(train_input_ids, attention_mask=train_attention_mask)\n",
    "train_last_hidden_states[0].size()\n",
    "train_features = train_last_hidden_states[0][:,0,:].numpy()\n",
    "train_labels = train_set[1]\n",
    "train_features, test_features, train_labels, test_labels = train_test_split(train_features, train_labels)\n",
    "lr_clf = LogisticRegression()\n",
    "lr_clf.fit(train_features, train_labels)\n",
    "lr_clf.score(test_features, test_labels)"
   ]
  },
  {
   "cell_type": "code",
   "execution_count": 8,
   "id": "e39ae1e1-e844-491d-81d3-de1e3330e5b9",
   "metadata": {},
   "outputs": [],
   "source": [
    "model_class, tokenizer_class, pretrained_weights = (tfs.BertModel, tfs.BertTokenizer, 'bert-base-uncased')\n",
    "tokenizer = tokenizer_class.from_pretrained(pretrained_weights)\n",
    "model = model_class.from_pretrained(pretrained_weights)"
   ]
  },
  {
   "cell_type": "code",
   "execution_count": null,
   "id": "5fcbb97c-a122-446d-b4a8-7d3e73f5b4d7",
   "metadata": {},
   "outputs": [],
   "source": []
  }
 ],
 "metadata": {
  "kernelspec": {
   "display_name": "Python 3 (ipykernel)",
   "language": "python",
   "name": "python3"
  },
  "language_info": {
   "codemirror_mode": {
    "name": "ipython",
    "version": 3
   },
   "file_extension": ".py",
   "mimetype": "text/x-python",
   "name": "python",
   "nbconvert_exporter": "python",
   "pygments_lexer": "ipython3",
   "version": "3.9.18"
  }
 },
 "nbformat": 4,
 "nbformat_minor": 5
}
